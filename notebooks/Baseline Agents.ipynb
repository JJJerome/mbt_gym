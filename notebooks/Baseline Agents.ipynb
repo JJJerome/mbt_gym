{
 "cells": [
  {
   "cell_type": "markdown",
   "id": "08005fcb",
   "metadata": {},
   "source": [
    "# Avellaneda-Stoikov"
   ]
  },
  {
   "cell_type": "code",
   "execution_count": null,
   "id": "96ce4fb2",
   "metadata": {},
   "outputs": [],
   "source": [
    "import sys\n",
    "sys.path.append(\"../\") # This version of the notebook is in the subfolder \"notebooks\" of the repo\n",
    "\n",
    "import gym\n",
    "import matplotlib.pyplot as plt\n",
    "import numpy as np\n",
    "import pandas as pd\n",
    "import seaborn as sns\n",
    "\n",
    "from copy import deepcopy\n",
    "\n",
    "\n",
    "from mbt_gym.agents.BaselineAgents import *\n",
    "from mbt_gym.gym.TradingEnvironment import TradingEnvironment\n",
    "from mbt_gym.gym.helpers.generate_trajectory import generate_trajectory\n",
    "from mbt_gym.gym.helpers.plotting import *\n",
    "from mbt_gym.stochastic_processes.midprice_models import *\n",
    "from mbt_gym.stochastic_processes.arrival_models import *\n",
    "from mbt_gym.stochastic_processes.fill_probability_models import *\n",
    "import torch\n",
    "print(torch.cuda.is_available())\n",
    "print(torch.cuda.get_device_name())"
   ]
  },
  {
   "cell_type": "markdown",
   "id": "16fac6a3",
   "metadata": {},
   "source": [
    "## Random strategy"
   ]
  },
  {
   "cell_type": "code",
   "execution_count": null,
   "id": "8b8b1a96",
   "metadata": {},
   "outputs": [],
   "source": [
    "terminal_time = 1.0\n",
    "n_steps = 200\n",
    "seed = 42\n",
    "np.random.seed(seed)\n",
    "timestamps = np.linspace(0, terminal_time, n_steps + 1)\n",
    "\n",
    "env = TradingEnvironment(terminal_time=terminal_time, n_steps=n_steps, seed=seed)\n",
    "random = RandomAgent(env,seed=seed)"
   ]
  },
  {
   "cell_type": "code",
   "execution_count": null,
   "id": "5f809a83",
   "metadata": {},
   "outputs": [],
   "source": [
    "plot_trajectory(env, random, seed = seed)"
   ]
  },
  {
   "cell_type": "markdown",
   "id": "454de9f5",
   "metadata": {},
   "source": [
    "## Fixed strategies"
   ]
  },
  {
   "cell_type": "code",
   "execution_count": null,
   "id": "320b22d5",
   "metadata": {},
   "outputs": [],
   "source": [
    "half_spreads = [0.25,0.5,1,2,4]"
   ]
  },
  {
   "cell_type": "code",
   "execution_count": null,
   "id": "06d9af47",
   "metadata": {},
   "outputs": [],
   "source": [
    "performance_dict = {}\n",
    "\n",
    "for hs in half_spreads:\n",
    "    np.random.seed(42)\n",
    "    agent = FixedSpreadAgent(half_spread=hs)\n",
    "    performance_dict[hs] = {}\n",
    "    performance_dict[hs][\"observations\"], performance_dict[hs][\"actions\"], rewards = generate_trajectory(env,agent, seed = seed)\n",
    "    performance_dict[hs][\"cum_rewards\"] = np.cumsum(rewards)"
   ]
  },
  {
   "cell_type": "code",
   "execution_count": null,
   "id": "8184410c",
   "metadata": {},
   "outputs": [],
   "source": [
    "fig, ((ax1,ax2),(ax3,ax4)) = plt.subplots(2,2, figsize = (20,10))\n",
    "\n",
    "ax1.title.set_text(\"cum_rewards\")\n",
    "ax2.title.set_text(\"asset_prices\")\n",
    "ax3.title.set_text(\"inventory\")\n",
    "ax4.title.set_text(\"cash_holdings\")\n",
    "\n",
    "for hs in half_spreads:\n",
    "    ax1.plot(timestamps[1:],performance_dict[hs][\"cum_rewards\"], label = hs)\n",
    "    ax2.plot(timestamps,performance_dict[hs][\"observations\"][:,3].reshape(-1), label = hs)\n",
    "    ax3.plot(timestamps,performance_dict[hs][\"observations\"][:,1].reshape(-1), label = hs)\n",
    "    ax4.plot(timestamps,performance_dict[hs][\"observations\"][:,0].reshape(-1), label = hs)\n",
    "ax1.legend()\n",
    "ax2.legend()\n",
    "ax3.legend()\n",
    "ax4.legend()\n",
    "plt.show()"
   ]
  },
  {
   "cell_type": "markdown",
   "id": "287e3f0d",
   "metadata": {},
   "source": [
    "## Avellaneda-Stoikov Optimal Strategy"
   ]
  },
  {
   "cell_type": "code",
   "execution_count": null,
   "id": "00dc33ca",
   "metadata": {},
   "outputs": [],
   "source": [
    "def get_as_env(num_trajectories:int = 1):\n",
    "    terminal_time = 1.0\n",
    "    sigma = 2.0\n",
    "    n_steps = 2000\n",
    "    arrival_rate = 140\n",
    "    fill_exponent = 1.5\n",
    "    midprice_model = BrownianMotionMidpriceModel(volatility=sigma, step_size=1/n_steps,\n",
    "                                                 num_trajectories=num_trajectories)\n",
    "    arrival_model = PoissonArrivalModel(intensity=np.array([arrival_rate, arrival_rate]), \n",
    "                                        step_size=1/n_steps, \n",
    "                                        num_trajectories=num_trajectories)\n",
    "    fill_probability_model = ExponentialFillFunction(fill_exponent=fill_exponent, \n",
    "                                                     step_size=1/n_steps,\n",
    "                                                     num_trajectories=num_trajectories)\n",
    "    return TradingEnvironment(terminal_time=terminal_time, \n",
    "                                 n_steps=n_steps, seed=seed, \n",
    "                                 num_trajectories=num_trajectories, \n",
    "                                 midprice_model=midprice_model,\n",
    "                                 arrival_model=arrival_model, \n",
    "                                 fill_probability_model=fill_probability_model)"
   ]
  },
  {
   "cell_type": "code",
   "execution_count": null,
   "id": "d0c171a6",
   "metadata": {},
   "outputs": [],
   "source": [
    "as_env = get_as_env()\n",
    "as_agent = AvellanedaStoikovAgent(risk_aversion=0.1, env=as_env)"
   ]
  },
  {
   "cell_type": "code",
   "execution_count": null,
   "id": "7dd86124",
   "metadata": {},
   "outputs": [],
   "source": [
    "plot_trajectory(as_env, as_agent, seed = seed)"
   ]
  },
  {
   "cell_type": "markdown",
   "id": "ed76675c",
   "metadata": {},
   "source": [
    "### Comparing the results to the Avellaneda Stoikov paper"
   ]
  },
  {
   "cell_type": "code",
   "execution_count": null,
   "id": "b4b4a440",
   "metadata": {},
   "outputs": [],
   "source": [
    "num_trajectories = 100000\n",
    "vec_env = get_as_env(num_trajectories)\n",
    "vec_as = AvellanedaStoikovAgent(risk_aversion=0.1, env=vec_env)"
   ]
  },
  {
   "cell_type": "code",
   "execution_count": null,
   "id": "9ea588e8",
   "metadata": {},
   "outputs": [],
   "source": [
    "observations, actions, rewards = generate_trajectory(vec_env, vec_as)"
   ]
  },
  {
   "cell_type": "code",
   "execution_count": null,
   "id": "97b71326",
   "metadata": {},
   "outputs": [],
   "source": [
    "results, fig, total_rewards = generate_results_table_and_hist(vec_env=vec_env,agent=vec_as)"
   ]
  },
  {
   "cell_type": "code",
   "execution_count": null,
   "id": "6bb4ef4f",
   "metadata": {},
   "outputs": [],
   "source": [
    "results"
   ]
  },
  {
   "cell_type": "markdown",
   "id": "18bd8801",
   "metadata": {},
   "source": [
    "These results look similar to Table 2 of Avellaneda and Stoikov. It is interesting that the agent **does** quote a negative spread sometimes, which _could_ be interpreted as taking liquidity but then the model should possibly be changed."
   ]
  },
  {
   "cell_type": "code",
   "execution_count": null,
   "id": "26723547",
   "metadata": {},
   "outputs": [],
   "source": [
    "fig"
   ]
  },
  {
   "cell_type": "markdown",
   "id": "8c5b4c4b",
   "metadata": {},
   "source": [
    "### The effect of increasing risk aversion"
   ]
  },
  {
   "cell_type": "code",
   "execution_count": null,
   "id": "1e273095",
   "metadata": {},
   "outputs": [],
   "source": [
    "risk_aversions = [0.01,0.1,0.5,1]"
   ]
  },
  {
   "cell_type": "code",
   "execution_count": null,
   "id": "6e2ef0be",
   "metadata": {},
   "outputs": [],
   "source": [
    "total_rewards_dict = dict()\n",
    "for risk_aversion in risk_aversions:\n",
    "    vec_as = AvellanedaStoikovAgent(risk_aversion=risk_aversion, env=vec_env)\n",
    "    _,_,total_rewards_dict[risk_aversion] = generate_results_table_and_hist(vec_env=vec_env,agent=vec_as);   "
   ]
  },
  {
   "cell_type": "code",
   "execution_count": null,
   "id": "c8f20eaf",
   "metadata": {},
   "outputs": [],
   "source": [
    "colors = [\"r\", \"g\", \"b\", \"c\"]"
   ]
  },
  {
   "cell_type": "code",
   "execution_count": null,
   "id": "f793a053",
   "metadata": {},
   "outputs": [],
   "source": [
    "fig, ax = plt.subplots(1,1, figsize=(20,10))\n",
    "for risk_aversion, color in zip(risk_aversions,colors):\n",
    "    sns.histplot(total_rewards_dict[risk_aversion], label=f\"risk-aversion {risk_aversion}\", stat = \"density\", bins = 50, ax=ax, color=color)\n",
    "ax.legend()\n",
    "plt.show()"
   ]
  },
  {
   "cell_type": "markdown",
   "id": "f1eacfa0",
   "metadata": {},
   "source": [
    "**Note, it is hard to argue that the risk-averse agent is outperforming the non risk-averse agent in these cases...**"
   ]
  },
  {
   "cell_type": "markdown",
   "id": "1fe476dd",
   "metadata": {},
   "source": [
    "## The Cartea-Jaimungal agent"
   ]
  },
  {
   "cell_type": "code",
   "execution_count": null,
   "id": "e7db5fc4",
   "metadata": {},
   "outputs": [],
   "source": [
    "cj_agent = CarteaJaimungalAgent(phi=0.1, alpha=0.001,env=as_env, max_inventory=100)"
   ]
  },
  {
   "cell_type": "code",
   "execution_count": null,
   "id": "d8f66749",
   "metadata": {},
   "outputs": [],
   "source": [
    "plot_trajectory(as_env, cj_agent, seed = seed)"
   ]
  }
 ],
 "metadata": {
  "kernelspec": {
   "display_name": "Python 3.8.9 64-bit",
   "language": "python",
   "name": "python3"
  },
  "language_info": {
   "codemirror_mode": {
    "name": "ipython",
    "version": 3
   },
   "file_extension": ".py",
   "mimetype": "text/x-python",
   "name": "python",
   "nbconvert_exporter": "python",
   "pygments_lexer": "ipython3",
   "version": "3.8.9"
  },
  "toc": {
   "base_numbering": 1,
   "nav_menu": {},
   "number_sections": true,
   "sideBar": true,
   "skip_h1_title": false,
   "title_cell": "Table of Contents",
   "title_sidebar": "Contents",
   "toc_cell": false,
   "toc_position": {
    "height": "calc(100% - 180px)",
    "left": "10px",
    "top": "150px",
    "width": "165px"
   },
   "toc_section_display": true,
   "toc_window_display": true
  },
  "vscode": {
   "interpreter": {
    "hash": "7fdb8041655b3dc02b7fba31b82b0328083461cc824a5f662da36f4ff301447b"
   }
  }
 },
 "nbformat": 4,
 "nbformat_minor": 5
}
