{
 "cells": [
  {
   "cell_type": "code",
   "execution_count": 19,
   "id": "1aa7474e",
   "metadata": {},
   "outputs": [],
   "source": [
    "import gym\n",
    "import matplotlib.pyplot as plt\n",
    "import numpy as np\n",
    "import pandas as pd\n",
    "import seaborn as sns\n",
    "\n",
    "import tensorboard\n",
    "import torch as th\n",
    "from scipy import stats\n",
    "\n",
    "from copy import deepcopy\n",
    "\n",
    "from stable_baselines3 import SAC\n",
    "from stable_baselines3.common.callbacks import EvalCallback\n",
    "from stable_baselines3.common.env_util import make_vec_env\n",
    "import stable_baselines3\n",
    "\n",
    "from stochastic.processes.continuous import BrownianMotion, GeometricBrownianMotion, BesselProcess, BrownianBridge, BrownianMeander\n",
    "from stochastic.processes.diffusion import ConstantElasticityVarianceProcess\n",
    "\n",
    "import sys\n",
    "sys.path.append(\"../\") # <-- Path to the main repo\n",
    "\n",
    "from main.agents.Agent import Agent\n",
    "from main.agents.AvellanedaStoikovAgent import AvellanedaStoikovAgent\n",
    "from main.agents.BaselineAgents import RandomAgent, FixedSpreadAgent\n",
    "from main.agents.SBAgent import SBAgent\n",
    "from main.gym.ModelBasedEnvironment import ModelBasedEnvironment\n",
    "from main.gym.models import *\n",
    "from main.gym.wrappers import *\n",
    "from main.gym.AvellanedaStoikovEnvironment import AvellanedaStoikovEnvironment\n",
    "from main.gym.helpers.generate_trajectory import generate_trajectory\n",
    "from main.rewards.RewardFunctions import InventoryAdjustedPnL\n",
    "from main.gym.helpers.plotting import plot_stable_baselines_actions"
   ]
  },
  {
   "cell_type": "code",
   "execution_count": 20,
   "id": "ed539841",
   "metadata": {},
   "outputs": [
    {
     "name": "stdout",
     "output_type": "stream",
     "text": [
      "The tensorboard extension is already loaded. To reload it, use:\n",
      "  %reload_ext tensorboard\n"
     ]
    }
   ],
   "source": [
    "# Load the TensorBoard notebook extension\n",
    "%load_ext tensorboard"
   ]
  },
  {
   "cell_type": "markdown",
   "id": "8b63602a",
   "metadata": {},
   "source": [
    "### Investigating the expected rewards of fixed strategies by sampling"
   ]
  },
  {
   "cell_type": "code",
   "execution_count": 21,
   "id": "6f3853dc",
   "metadata": {},
   "outputs": [],
   "source": [
    "terminal_time = 1.0\n",
    "n_steps = 100\n",
    "timestamps = np.linspace(0, terminal_time, n_steps + 1)\n",
    "env_params = dict(terminal_time=terminal_time, n_steps=n_steps, max_half_spread = 1)\n",
    "as_env = AvellanedaStoikovEnvironment(**env_params)\n",
    "reduced_env = ReduceStateSizeWrapper(as_env)\n",
    "\n",
    "gym.envs.register(id=\"as-env-v0\", entry_point=\"__main__:AvellanedaStoikovEnvironment\", kwargs=env_params)"
   ]
  },
  {
   "cell_type": "code",
   "execution_count": 22,
   "id": "6eca78ce",
   "metadata": {},
   "outputs": [],
   "source": [
    "N_EPISODES = 200\n",
    "def fixed_strat_neg_reward(half_spread:float, env:gym.Env=reduced_env):\n",
    "    total_rewards = 0\n",
    "    for _ in range(N_EPISODES):\n",
    "        _,_,episode_rewards = generate_trajectory(env,FixedSpreadAgent(half_spread))\n",
    "        total_rewards+= sum(episode_rewards)\n",
    "    return -total_rewards/N_EPISODES    "
   ]
  },
  {
   "cell_type": "code",
   "execution_count": 23,
   "id": "188e0fdd",
   "metadata": {},
   "outputs": [],
   "source": [
    "fixed_spread_rewards = [-fixed_strat_neg_reward(hs) for hs in np.linspace(0,2,200)]"
   ]
  },
  {
   "cell_type": "code",
   "execution_count": 24,
   "id": "40a19bfc",
   "metadata": {},
   "outputs": [
    {
     "data": {
      "text/plain": [
       "[<matplotlib.lines.Line2D at 0x7fa65a476fd0>]"
      ]
     },
     "execution_count": 24,
     "metadata": {},
     "output_type": "execute_result"
    },
    {
     "data": {
      "image/png": "[encoded data removed]",
      "text/plain": [
       "<Figure size 432x288 with 1 Axes>"
      ]
     },
     "metadata": {
      "needs_background": "light"
     },
     "output_type": "display_data"
    }
   ],
   "source": [
    "plt.plot(np.linspace(0,2,200), fixed_spread_rewards)"
   ]
  },
  {
   "cell_type": "markdown",
   "id": "bd62e5d6",
   "metadata": {},
   "source": [
    "## Finding the best fixed strategy with CMA-ES"
   ]
  },
  {
   "cell_type": "code",
   "execution_count": 25,
   "id": "1ef19103",
   "metadata": {},
   "outputs": [
    {
     "name": "stderr",
     "output_type": "stream",
     "text": [
      "/opt/miniconda3/lib/python3.9/site-packages/cma/utilities/utils.py:343: UserWarning: input x0 should be a list or 1-D array, trying to flatten (2, 1)-array ()\n",
      "  warnings.warn(msg + ' (' +\n"
     ]
    },
    {
     "name": "stdout",
     "output_type": "stream",
     "text": [
      "covariance matrix adaptation turned off\n",
      "(3_w,6)-aCMA-ES (mu_w=2.0,w_1=63%) in dimension 2 (seed=1065132, Thu May 19 15:05:05 2022)\n",
      "Iterat #Fevals   function value  axis ratio  sigma  min&max std  t[m:s]\n",
      "    1      6 -5.911369210893209e+01 1.0e+00 7.93e-01  8e-01  8e-01 0:02.1\n",
      "    2     12 -6.898082616679018e+01 1.0e+00 7.37e-01  7e-01  7e-01 0:04.3\n",
      "    3     18 -6.325064416814135e+01 1.0e+00 6.27e-01  6e-01  6e-01 0:06.4\n",
      "    5     30 -6.784260961248792e+01 1.0e+00 1.07e+00  1e+00  1e+00 0:10.7\n",
      "    7     42 -6.705743490479171e+01 1.0e+00 5.75e-01  6e-01  6e-01 0:14.9\n",
      "   10     60 -6.925260145657423e+01 1.0e+00 3.26e-01  3e-01  3e-01 0:21.3\n",
      "   13     78 -6.833227842914972e+01 1.0e+00 3.27e-01  3e-01  3e-01 0:27.7\n",
      "   17    102 -6.817402066550177e+01 1.0e+00 2.77e-01  3e-01  3e-01 0:36.2\n",
      "   21    126 -6.927530840362080e+01 1.0e+00 2.14e-01  2e-01  2e-01 0:44.7\n",
      "   26    156 -6.927160110070248e+01 1.0e+00 7.10e-02  7e-02  7e-02 0:55.3\n",
      "   31    186 -6.958148703005867e+01 1.0e+00 6.49e-02  6e-02  6e-02 1:05.9\n",
      "   37    222 -6.873789181853378e+01 1.0e+00 6.44e-02  6e-02  6e-02 1:18.8\n",
      "   43    258 -6.934128041660620e+01 1.0e+00 5.66e-02  6e-02  6e-02 1:31.5\n",
      "   50    300 -6.996324534635076e+01 1.0e+00 2.02e-02  2e-02  2e-02 1:46.3\n",
      "   57    342 -6.954692515618538e+01 1.0e+00 9.14e-03  9e-03  9e-03 2:01.2\n",
      "   65    390 -6.981765338731675e+01 1.0e+00 5.73e-03  6e-03  6e-03 2:18.3\n",
      "   73    438 -6.953502571118818e+01 1.0e+00 6.67e-03  7e-03  7e-03 2:35.3\n",
      "   82    492 -6.920605633352707e+01 1.0e+00 6.42e-03  6e-03  6e-03 2:54.3\n",
      "   91    546 -7.029877197893310e+01 1.0e+00 3.22e-03  3e-03  3e-03 3:13.3\n",
      "  100    600 -6.875173490931964e+01 1.0e+00 2.29e-03  2e-03  2e-03 3:32.2\n",
      "  110    660 -6.973495878294354e+01 1.0e+00 1.85e-03  2e-03  2e-03 3:53.4\n",
      "  120    720 -7.056692502865646e+01 1.0e+00 5.27e-03  5e-03  5e-03 4:14.6\n",
      "  131    786 -6.960883116201749e+01 1.0e+00 7.44e-03  7e-03  7e-03 4:37.9\n",
      "  142    852 -6.897832079066116e+01 1.0e+00 5.48e-03  5e-03  5e-03 5:01.1\n",
      "  154    924 -6.972790823838240e+01 1.0e+00 2.91e-03  3e-03  3e-03 5:26.5\n",
      "  166    996 -6.951029428294235e+01 1.0e+00 2.82e-03  3e-03  3e-03 5:52.0\n",
      "  179   1074 -6.905388220079921e+01 1.0e+00 6.79e-03  7e-03  7e-03 6:19.9\n",
      "  192   1152 -6.895173633278908e+01 1.0e+00 2.30e-03  2e-03  2e-03 6:47.3\n",
      "  200   1200 -6.925337987069759e+01 1.0e+00 3.88e-03  4e-03  4e-03 7:04.1\n",
      "  214   1284 -6.975385766937136e+01 1.0e+00 2.30e-03  2e-03  2e-03 7:33.8\n",
      "  229   1374 -6.883685628160679e+01 1.0e+00 1.49e-03  1e-03  1e-03 8:05.6\n",
      "  244   1464 -6.988510309001144e+01 1.0e+00 1.31e-03  1e-03  1e-03 8:37.2\n",
      "  260   1560 -6.936766679044426e+01 1.0e+00 1.67e-03  2e-03  2e-03 9:11.2\n",
      "  276   1656 -6.856538115208326e+01 1.0e+00 8.26e-04  8e-04  8e-04 9:45.5\n",
      "  293   1758 -6.889905444960893e+01 1.0e+00 7.35e-04  7e-04  7e-04 10:21.3\n",
      "  300   1800 -7.035805397201847e+01 1.0e+00 8.57e-04  9e-04  9e-04 10:36.0\n",
      "  317   1902 -6.961985744157504e+01 1.0e+00 5.98e-04  6e-04  6e-04 11:12.1\n",
      "  335   2010 -6.934589984738943e+01 1.0e+00 4.85e-04  5e-04  5e-04 11:50.8\n",
      "  353   2118 -6.952841709194040e+01 1.0e+00 1.18e-04  1e-04  1e-04 12:29.3\n",
      "  371   2226 -6.933820943320387e+01 1.0e+00 8.03e-05  8e-05  8e-05 13:08.8\n",
      "  390   2340 -6.973203905576803e+01 1.0e+00 1.25e-04  1e-04  1e-04 13:50.4\n",
      "  400   2400 -7.027515048875692e+01 1.0e+00 2.04e-04  2e-04  2e-04 14:11.9\n",
      "  420   2520 -6.946043573611546e+01 1.0e+00 1.32e-04  1e-04  1e-04 14:54.9\n",
      "  441   2646 -6.947889966368413e+01 1.0e+00 9.27e-05  9e-05  9e-05 15:39.7\n",
      "  462   2772 -6.919854919800495e+01 1.0e+00 3.90e-04  4e-04  4e-04 16:24.7\n",
      "  483   2898 -6.864333861219033e+01 1.0e+00 2.68e-04  3e-04  3e-04 17:10.1\n",
      "  500   3000 -6.914709627807726e+01 1.0e+00 5.00e-04  5e-04  5e-04 17:46.8\n",
      "  522   3132 -6.900211737338250e+01 1.0e+00 5.16e-04  5e-04  5e-04 18:34.8\n",
      "  535   3210 -6.835969140951403e+01 1.0e+00 1.34e-03  1e-03  1e-03 19:02.6\n"
     ]
    },
    {
     "data": {
      "text/plain": [
       "<cma.logger.CMADataLogger at 0x7fa66a208340>"
      ]
     },
     "execution_count": 25,
     "metadata": {},
     "output_type": "execute_result"
    },
    {
     "data": {
      "image/png": "[encoded data removed]",
      "text/plain": [
       "<Figure size 432x288 with 4 Axes>"
      ]
     },
     "metadata": {
      "needs_background": "light"
     },
     "output_type": "display_data"
    }
   ],
   "source": [
    "import cma\n",
    "\n",
    "x0 = [1]\n",
    "sigma0 = 1\n",
    "es = cma.CMAEvolutionStrategy(2 * [x0], sigma0, {'CMA_on':0})\n",
    "es.optimize(lambda x:fixed_strat_neg_reward(x[0])) # on the fly 2-D -> 1-D wrapper\n",
    "es.logger.plot(xsemilog=True)"
   ]
  },
  {
   "cell_type": "code",
   "execution_count": 26,
   "id": "dace8073",
   "metadata": {},
   "outputs": [
    {
     "name": "stdout",
     "output_type": "stream",
     "text": [
      "termination on tolstagnation=146\n",
      "final/bestever f-value = -6.835969e+01 -7.160231e+01\n",
      "incumbent solution: [0.6870811162374137, 2.46124614841121]\n",
      "std deviation: [0.0013385808531999248, 0.0013386143181395647]\n"
     ]
    },
    {
     "data": {
      "text/plain": [
       "CMAEvolutionStrategyResult(xbest=array([0.68012694, 2.4694063 ]), fbest=-71.6023071185566, evals_best=1583, evaluations=3210, iterations=535, xfavorite=array([0.68708112, 2.46124615]), stds=array([0.00133858, 0.00133861]), stop={'tolstagnation': 146})"
      ]
     },
     "execution_count": 26,
     "metadata": {},
     "output_type": "execute_result"
    }
   ],
   "source": [
    "es.result_pretty()"
   ]
  },
  {
   "cell_type": "code",
   "execution_count": 27,
   "id": "d88ddd7a",
   "metadata": {},
   "outputs": [
    {
     "name": "stdout",
     "output_type": "stream",
     "text": [
      "Optimal strategy is (0.6666666666666666, 0.6666666666666666)\n",
      "CMA-ES strategy is (0.680126943269561, 0.680126943269561)\n"
     ]
    }
   ],
   "source": [
    "as_agent = AvellanedaStoikovAgent(risk_aversion=0)\n",
    "as_action = as_agent.get_action([0,0,0,0])[0]\n",
    "cma_action = es.result.xbest[0]\n",
    "print(f\"Optimal strategy is {as_action, as_action}\\nCMA-ES strategy is {cma_action,cma_action}\")"
   ]
  },
  {
   "cell_type": "code",
   "execution_count": 28,
   "id": "2305ab0b",
   "metadata": {},
   "outputs": [
    {
     "name": "stdout",
     "output_type": "stream",
     "text": [
      "Error is 2.02%\n"
     ]
    }
   ],
   "source": [
    "print(f\"Error is {round(abs(cma_action-as_action)/as_action*100, 2)}%\")"
   ]
  },
  {
   "cell_type": "code",
   "execution_count": null,
   "id": "6238ab3f",
   "metadata": {},
   "outputs": [],
   "source": []
  }
 ],
 "metadata": {
  "kernelspec": {
   "display_name": "Python 3 (ipykernel)",
   "language": "python",
   "name": "python3"
  },
  "language_info": {
   "codemirror_mode": {
    "name": "ipython",
    "version": 3
   },
   "file_extension": ".py",
   "mimetype": "text/x-python",
   "name": "python",
   "nbconvert_exporter": "python",
   "pygments_lexer": "ipython3",
   "version": "3.9.7"
  }
 },
 "nbformat": 4,
 "nbformat_minor": 5
}
